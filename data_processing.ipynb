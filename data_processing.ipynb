{
 "cells": [
  {
   "cell_type": "code",
   "execution_count": 1,
   "metadata": {},
   "outputs": [],
   "source": [
    "import pandas as pd\n",
    "import numpy as np"
   ]
  },
  {
   "cell_type": "code",
   "execution_count": 2,
   "metadata": {},
   "outputs": [],
   "source": [
    "df = pd.read_excel('data_6.1~6.15.xlsx')\n",
    "df = df.dropna()\n",
    "df['location'] = df['latitude'].astype(str) + ', ' + df['longitude'].astype(str)\n"
   ]
  },
  {
   "cell_type": "code",
   "execution_count": 3,
   "metadata": {},
   "outputs": [
    {
     "name": "stderr",
     "output_type": "stream",
     "text": [
      "C:\\Users\\ADMIN\\AppData\\Local\\Temp\\ipykernel_17116\\2283480817.py:2: SettingWithCopyWarning: \n",
      "A value is trying to be set on a copy of a slice from a DataFrame.\n",
      "Try using .loc[row_indexer,col_indexer] = value instead\n",
      "\n",
      "See the caveats in the documentation: https://pandas.pydata.org/pandas-docs/stable/user_guide/indexing.html#returning-a-view-versus-a-copy\n",
      "  telco_data['workload'] = (telco_data['end time']-telco_data['start time']).dt.total_seconds()\n"
     ]
    }
   ],
   "source": [
    "telco_data = df[['start time', 'end time', 'location']]\n",
    "telco_data['workload'] = (telco_data['end time']-telco_data['start time']).dt.total_seconds()\n",
    "telco_data = telco_data[['workload', 'location']]\n",
    "telco_data = telco_data.groupby(by = [\"location\"]).sum()\n",
    "telco_data = telco_data.reset_index()\n",
    "telco_data['location'] = [tuple([float(y) for y in x.split(\",\")]) for x in telco_data['location']]\n",
    "telco_data = telco_data[['workload', 'location']]\n"
   ]
  },
  {
   "cell_type": "code",
   "execution_count": 4,
   "metadata": {},
   "outputs": [
    {
     "name": "stdout",
     "output_type": "stream",
     "text": [
      "<class 'pandas.core.frame.DataFrame'>\n",
      "RangeIndex: 2769 entries, 0 to 2768\n",
      "Data columns (total 2 columns):\n",
      " #   Column    Non-Null Count  Dtype  \n",
      "---  ------    --------------  -----  \n",
      " 0   workload  2769 non-null   float64\n",
      " 1   location  2769 non-null   object \n",
      "dtypes: float64(1), object(1)\n",
      "memory usage: 43.4+ KB\n"
     ]
    }
   ],
   "source": [
    "telco_data.info()"
   ]
  },
  {
   "cell_type": "code",
   "execution_count": 5,
   "metadata": {},
   "outputs": [
    {
     "data": {
      "text/html": [
       "<div>\n",
       "<style scoped>\n",
       "    .dataframe tbody tr th:only-of-type {\n",
       "        vertical-align: middle;\n",
       "    }\n",
       "\n",
       "    .dataframe tbody tr th {\n",
       "        vertical-align: top;\n",
       "    }\n",
       "\n",
       "    .dataframe thead th {\n",
       "        text-align: right;\n",
       "    }\n",
       "</style>\n",
       "<table border=\"1\" class=\"dataframe\">\n",
       "  <thead>\n",
       "    <tr style=\"text-align: right;\">\n",
       "      <th></th>\n",
       "      <th>workload</th>\n",
       "      <th>location</th>\n",
       "    </tr>\n",
       "  </thead>\n",
       "  <tbody>\n",
       "    <tr>\n",
       "      <th>0</th>\n",
       "      <td>1507810.0</td>\n",
       "      <td>(22.522803, 114.218796)</td>\n",
       "    </tr>\n",
       "    <tr>\n",
       "      <th>1</th>\n",
       "      <td>643543.0</td>\n",
       "      <td>(24.284812, 102.999068)</td>\n",
       "    </tr>\n",
       "    <tr>\n",
       "      <th>2</th>\n",
       "      <td>50378.0</td>\n",
       "      <td>(25.222206, 117.086322)</td>\n",
       "    </tr>\n",
       "    <tr>\n",
       "      <th>3</th>\n",
       "      <td>3755547.0</td>\n",
       "      <td>(26.139329, 103.078562)</td>\n",
       "    </tr>\n",
       "    <tr>\n",
       "      <th>4</th>\n",
       "      <td>763464.0</td>\n",
       "      <td>(26.215115, 109.744661)</td>\n",
       "    </tr>\n",
       "  </tbody>\n",
       "</table>\n",
       "</div>"
      ],
      "text/plain": [
       "    workload                 location\n",
       "0  1507810.0  (22.522803, 114.218796)\n",
       "1   643543.0  (24.284812, 102.999068)\n",
       "2    50378.0  (25.222206, 117.086322)\n",
       "3  3755547.0  (26.139329, 103.078562)\n",
       "4   763464.0  (26.215115, 109.744661)"
      ]
     },
     "execution_count": 5,
     "metadata": {},
     "output_type": "execute_result"
    }
   ],
   "source": [
    "telco_data.head()"
   ]
  },
  {
   "cell_type": "code",
   "execution_count": 8,
   "metadata": {},
   "outputs": [],
   "source": [
    "telco_data.to_pickle('processed_data.pickle')"
   ]
  }
 ],
 "metadata": {
  "kernelspec": {
   "display_name": "Python 3",
   "language": "python",
   "name": "python3"
  },
  "language_info": {
   "codemirror_mode": {
    "name": "ipython",
    "version": 3
   },
   "file_extension": ".py",
   "mimetype": "text/x-python",
   "name": "python",
   "nbconvert_exporter": "python",
   "pygments_lexer": "ipython3",
   "version": "3.12.1"
  }
 },
 "nbformat": 4,
 "nbformat_minor": 2
}
