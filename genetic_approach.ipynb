{
 "cells": [
  {
   "cell_type": "code",
   "execution_count": 2,
   "metadata": {},
   "outputs": [],
   "source": [
    "import pandas as pd\n",
    "import datetime\n",
    "from geopy import distance\n",
    "import numpy as np\n",
    "from collections import defaultdict\n",
    "import progressbar\n",
    "import operator\n",
    "import random\n",
    "from tqdm import tqdm_notebook\n",
    "from matplotlib import pyplot as plt\n"
   ]
  },
  {
   "cell_type": "code",
   "execution_count": 3,
   "metadata": {},
   "outputs": [],
   "source": [
    "df=pd.read_pickle('processed_data.pickle')\n",
    "df_300 = df.sample(n=300, random_state=7)\n",
    "df_300 = df.reset_index().iloc[:,1:]"
   ]
  },
  {
   "cell_type": "code",
   "execution_count": 4,
   "metadata": {},
   "outputs": [
    {
     "data": {
      "text/html": [
       "<div>\n",
       "<style scoped>\n",
       "    .dataframe tbody tr th:only-of-type {\n",
       "        vertical-align: middle;\n",
       "    }\n",
       "\n",
       "    .dataframe tbody tr th {\n",
       "        vertical-align: top;\n",
       "    }\n",
       "\n",
       "    .dataframe thead th {\n",
       "        text-align: right;\n",
       "    }\n",
       "</style>\n",
       "<table border=\"1\" class=\"dataframe\">\n",
       "  <thead>\n",
       "    <tr style=\"text-align: right;\">\n",
       "      <th></th>\n",
       "      <th>workload</th>\n",
       "      <th>location</th>\n",
       "    </tr>\n",
       "  </thead>\n",
       "  <tbody>\n",
       "    <tr>\n",
       "      <th>0</th>\n",
       "      <td>1507810.0</td>\n",
       "      <td>(22.522803, 114.218796)</td>\n",
       "    </tr>\n",
       "    <tr>\n",
       "      <th>1</th>\n",
       "      <td>643543.0</td>\n",
       "      <td>(24.284812, 102.999068)</td>\n",
       "    </tr>\n",
       "    <tr>\n",
       "      <th>2</th>\n",
       "      <td>50378.0</td>\n",
       "      <td>(25.222206, 117.086322)</td>\n",
       "    </tr>\n",
       "    <tr>\n",
       "      <th>3</th>\n",
       "      <td>3755547.0</td>\n",
       "      <td>(26.139329, 103.078562)</td>\n",
       "    </tr>\n",
       "    <tr>\n",
       "      <th>4</th>\n",
       "      <td>763464.0</td>\n",
       "      <td>(26.215115, 109.744661)</td>\n",
       "    </tr>\n",
       "  </tbody>\n",
       "</table>\n",
       "</div>"
      ],
      "text/plain": [
       "    workload                 location\n",
       "0  1507810.0  (22.522803, 114.218796)\n",
       "1   643543.0  (24.284812, 102.999068)\n",
       "2    50378.0  (25.222206, 117.086322)\n",
       "3  3755547.0  (26.139329, 103.078562)\n",
       "4   763464.0  (26.215115, 109.744661)"
      ]
     },
     "execution_count": 4,
     "metadata": {},
     "output_type": "execute_result"
    }
   ],
   "source": [
    "df_300.head()"
   ]
  },
  {
   "cell_type": "code",
   "execution_count": 5,
   "metadata": {},
   "outputs": [],
   "source": [
    "class Species():\n",
    "    frontier = 0\n",
    "    distance = 0 \n",
    "    servers = []\n",
    "    solution = []\n",
    "    accessDelay = 0\n",
    "    workloadBalance = 0\n",
    "    id = 0 \n",
    "    def __init__(self,f,d,s,sol,wB,aD, id):\n",
    "        self.frontier = f\n",
    "        self.distance = d \n",
    "        self.servers = s\n",
    "        self.solution = sol\n",
    "        self.accessDelay = aD\n",
    "        self.workloadBalance = wB\n",
    "        self.id = id\n",
    "    def __repr__(self):\n",
    "        return \"Species: \" + str(self.id) + \" Frontier: \" + str(self.frontier) + \" distance: \" + str(self.distance) + \" Access Delay: \" + str(self.accessDelay) + \" Workload Balance: \" + str(self.workloadBalance) + \" Servers: \" + str(len(self.servers))"
   ]
  },
  {
   "cell_type": "code",
   "execution_count": 6,
   "metadata": {},
   "outputs": [],
   "source": [
    "def accessDelay(solution, data):\n",
    "    delay = 0\n",
    "    i = 0\n",
    "    for location in solution:\n",
    "        delay += distance.distance(data.iloc[location]['location'],data.iloc[i]['location']).km\n",
    "        i+=1\n",
    "    return delay\n",
    "def workloadBalance(solution, data):\n",
    "    servers = dict.fromkeys(solution,0)\n",
    "    for index,row in data.iterrows():\n",
    "        servers[solution[index]] +=  row['workload']\n",
    "    total = 0\n",
    "    mean = sum(servers.values())/len(servers)\n",
    "    for key,value in servers.items():\n",
    "        total += (value - mean)**2\n",
    "    return np.sqrt(total/len(servers))"
   ]
  },
  {
   "cell_type": "code",
   "execution_count": 7,
   "metadata": {},
   "outputs": [],
   "source": [
    "def naive_solution(data,servers):\n",
    "    solution = []\n",
    "    for j in range(0,len(data)):\n",
    "        best_server = 0\n",
    "        min_dist = np.inf\n",
    "        for server in servers:\n",
    "            dist = distance.distance(data.iloc[j]['location'],data.iloc[server]['location']).km\n",
    "            if dist < min_dist:\n",
    "                best_server = server\n",
    "                min_dist = dist\n",
    "        solution.append(best_server)\n",
    "    return solution\n",
    "\n",
    "def init_pop(data, server_count = 20, pop_size = 100, server_variance = 5):\n",
    "    pop = {}\n",
    "    progress = progressbar.ProgressBar()\n",
    "    for i in progress(range(pop_size)):\n",
    "        if server_variance:\n",
    "            server_n = np.random.randint(server_count-server_variance, server_count + server_variance)\n",
    "        else:\n",
    "            server_n = server_count\n",
    "        servers = list(np.random.choice(range(len(data)),server_n,False)) #list of server_n random servers\n",
    "        solution = naive_solution(data,servers)\n",
    "        pop[i] = Species(0,0,servers,solution, workloadBalance(solution,data), accessDelay(solution,data),\"Gen 0, Species:\" + str(i))\n",
    "    return pop\n"
   ]
  },
  {
   "cell_type": "code",
   "execution_count": 8,
   "metadata": {},
   "outputs": [
    {
     "data": {
      "text/plain": [
       "2844.278341338522"
      ]
     },
     "execution_count": 8,
     "metadata": {},
     "output_type": "execute_result"
    }
   ],
   "source": [
    "data = df[:30]\n",
    "servers = list(np.random.choice(range(len(data)),5,False))\n",
    "solution = naive_solution(data,servers)\n",
    "accessDelay(solution, data)"
   ]
  },
  {
   "cell_type": "code",
   "execution_count": 9,
   "metadata": {},
   "outputs": [
    {
     "data": {
      "text/plain": [
       "[4,\n",
       " 1,\n",
       " 8,\n",
       " 1,\n",
       " 4,\n",
       " 24,\n",
       " 8,\n",
       " 24,\n",
       " 8,\n",
       " 24,\n",
       " 24,\n",
       " 1,\n",
       " 24,\n",
       " 24,\n",
       " 26,\n",
       " 24,\n",
       " 26,\n",
       " 24,\n",
       " 24,\n",
       " 24,\n",
       " 24,\n",
       " 24,\n",
       " 24,\n",
       " 24,\n",
       " 24,\n",
       " 26,\n",
       " 26,\n",
       " 24,\n",
       " 26,\n",
       " 24]"
      ]
     },
     "execution_count": 9,
     "metadata": {},
     "output_type": "execute_result"
    }
   ],
   "source": [
    "solution"
   ]
  },
  {
   "cell_type": "code",
   "execution_count": 10,
   "metadata": {},
   "outputs": [
    {
     "name": "stderr",
     "output_type": "stream",
     "text": [
      "100% |########################################################################|\n"
     ]
    }
   ],
   "source": [
    "population = init_pop(data, pop_size = 10)"
   ]
  },
  {
   "cell_type": "code",
   "execution_count": 12,
   "metadata": {},
   "outputs": [],
   "source": [
    "def checkDominance(a,b, check_servers = False):\n",
    "    if check_servers:\n",
    "        if a.accessDelay < b.accessDelay and a.workloadBalance <= b.workloadBalance and len(a.servers) <= len(b.servers):\n",
    "            return True\n",
    "        if a.accessDelay <= b.accessDelay and a.workloadBalance < b.workloadBalance and len(a.servers) <= len(b.servers):\n",
    "            return True\n",
    "        if a.accessDelay <= b.accessDelay and a.workloadBalance <= b.workloadBalance and len(a.servers) < len(b.servers):\n",
    "            return True\n",
    "    else:\n",
    "        if a.accessDelay < b.accessDelay and a.workloadBalance <= b.workloadBalance:\n",
    "            return True\n",
    "        if a.accessDelay <= b.accessDelay and a.workloadBalance < b.workloadBalance:\n",
    "            return True\n",
    "    return False\n",
    "\n",
    "def nonDominatedSort(population, check_servers = False):\n",
    "    S = {}\n",
    "    n = {}\n",
    "    F = defaultdict(list)\n",
    "    for key in population.keys():\n",
    "        S[key] = []\n",
    "        n[key] = 0\n",
    "        for key2 in population.keys():\n",
    "            if key == key2:\n",
    "                pass\n",
    "            elif checkDominance(population[key],population[key2], check_servers):\n",
    "                S[key].append(key2)\n",
    "            elif checkDominance(population[key2],population[key], check_servers):\n",
    "                n[key] += 1\n",
    "        if n[key] == 0:\n",
    "            population[key].frontier = 0  #set rank of species internally \n",
    "            F[0].append(key)\n",
    "    i = 0\n",
    "    while F[i] != []:\n",
    "        Q = []\n",
    "        for p in F[i]:\n",
    "            for q in S[p]:\n",
    "                n[q] -= 1\n",
    "                if n[q] == 0:\n",
    "                    population[q].frontier = i + 1 #set rank of species internally \n",
    "                    Q.append(q)\n",
    "        i = i + 1\n",
    "        if not Q:\n",
    "            break\n",
    "        F[i] = Q\n",
    "    return F"
   ]
  },
  {
   "cell_type": "code",
   "execution_count": 14,
   "metadata": {},
   "outputs": [
    {
     "data": {
      "text/plain": [
       "{0: Species: Gen 0, Species:0 Frontier: 1 distance: 0 Access Delay: 1053.4599518020898 Workload Balance: 955728.3811651303 Servers: 22,\n",
       " 1: Species: Gen 0, Species:1 Frontier: 0 distance: 0 Access Delay: 117.48064554952082 Workload Balance: 1096755.082718012 Servers: 22,\n",
       " 2: Species: Gen 0, Species:2 Frontier: 1 distance: 0 Access Delay: 697.3476314548166 Workload Balance: 987720.3767635493 Servers: 19,\n",
       " 3: Species: Gen 0, Species:3 Frontier: 3 distance: 0 Access Delay: 2542.9590747344387 Workload Balance: 1175729.6783982653 Servers: 15,\n",
       " 4: Species: Gen 0, Species:4 Frontier: 2 distance: 0 Access Delay: 844.1019890865512 Workload Balance: 1175261.0928024037 Servers: 20,\n",
       " 5: Species: Gen 0, Species:5 Frontier: 0 distance: 0 Access Delay: 299.153397592132 Workload Balance: 852500.833840192 Servers: 24,\n",
       " 6: Species: Gen 0, Species:6 Frontier: 3 distance: 0 Access Delay: 1411.7084438067848 Workload Balance: 1178792.8783695018 Servers: 18,\n",
       " 7: Species: Gen 0, Species:7 Frontier: 1 distance: 0 Access Delay: 180.13875644462686 Workload Balance: 1378819.5658067851 Servers: 19,\n",
       " 8: Species: Gen 0, Species:8 Frontier: 0 distance: 0 Access Delay: 6.7034587961675705 Workload Balance: 1175777.1869206224 Servers: 24,\n",
       " 9: Species: Gen 0, Species:9 Frontier: 4 distance: 0 Access Delay: 2486.542972292298 Workload Balance: 1443979.5105798608 Servers: 19}"
      ]
     },
     "execution_count": 14,
     "metadata": {},
     "output_type": "execute_result"
    }
   ],
   "source": [
    "population"
   ]
  },
  {
   "cell_type": "code",
   "execution_count": 13,
   "metadata": {},
   "outputs": [
    {
     "data": {
      "text/plain": [
       "defaultdict(list, {0: [1, 5, 8], 1: [0, 2, 7], 2: [4], 3: [3, 6], 4: [9]})"
      ]
     },
     "execution_count": 13,
     "metadata": {},
     "output_type": "execute_result"
    }
   ],
   "source": [
    "nonDominatedSort(population)"
   ]
  },
  {
   "cell_type": "code",
   "execution_count": 86,
   "metadata": {},
   "outputs": [],
   "source": [
    "def crowdingDistance(population, check_servers = False):\n",
    "    #set distances to 0 \n",
    "    for member in population:\n",
    "        member.distance = 0\n",
    "\n",
    "    population = sorted(population, key = lambda x: x.accessDelay)\n",
    "    population[0].distance = -np.inf\n",
    "    population[-1].distance = -np.inf\n",
    "    for i in range(1,len(population)-1):\n",
    "        population[i].distance = population[i].distance - (population[i+1].accessDelay - population[i-1].accessDelay)/(population[-1].accessDelay - population[0].accessDelay)\n",
    "    \n",
    "    population = sorted(population, key = lambda x: x.workloadBalance)\n",
    "    population[0].distance = -np.inf\n",
    "    population[-1].distance = -np.inf\n",
    "    for i in range(1,len(population)-1):\n",
    "        population[i].distance = population[i].distance - (population[i+1].workloadBalance - population[i-1].workloadBalance)/(population[-1].workloadBalance - population[0].workloadBalance)\n",
    "    \n",
    "    if check_servers:\n",
    "        population = sorted(population, key = lambda x: len(x.servers))\n",
    "        population[0].distance = -np.inf\n",
    "        population[-1].distance = -np.inf\n",
    "        for i in range(1,len(population)-1):\n",
    "            population[i].distance = population[i].distance - (len(population[i+1].servers) - len(population[i-1].servers))/(len(population[-1].servers) - len(population[0].servers))\n"
   ]
  },
  {
   "cell_type": "code",
   "execution_count": 87,
   "metadata": {},
   "outputs": [],
   "source": [
    "def roulette(choices):\n",
    "    choice_odds = [] \n",
    "    for i in range(len(choices)):\n",
    "        choice_odds.append((2*(len(choices) - i))/(len(choices)*(len(choices)+1)))\n",
    "\n",
    "    max = sum([x for x in choice_odds])\n",
    "    pick = np.random.uniform(0, max)\n",
    "    current = 0\n",
    "    selected_choice = 0\n",
    "    for x in choice_odds:\n",
    "        current += x\n",
    "        if current >= pick:\n",
    "            break\n",
    "        selected_choice += 1\n",
    "    return selected_choice\n",
    "\n",
    "def selection(population, frontiers):\n",
    "    selected_frontier = roulette(frontiers)\n",
    "    distances = []\n",
    "    for i in frontiers[selected_frontier]:\n",
    "        distances.append((population[i].distance,i))\n",
    "    distances = sorted(distances)\n",
    "\n",
    "    selection = roulette(distances)\n",
    "    try:\n",
    "        selected_member = distances[selection]\n",
    "    except Exception:\n",
    "        print(selection)\n",
    "        print(distances)\n",
    "    selected_member = selected_member[1]\n",
    "    return population[selected_member]\n"
   ]
  },
  {
   "cell_type": "code",
   "execution_count": 89,
   "metadata": {},
   "outputs": [],
   "source": [
    "\n",
    "def mutate(data, species, fixed_servers):\n",
    "    if fixed_servers:\n",
    "        server = np.random.choice(species.servers)\n",
    "        new_server = np.random.randint(0,len(species.solution))\n",
    "        species.servers = list(species.servers)\n",
    "        species.servers.append(new_server)\n",
    "        species.servers.remove(server)\n",
    "        species.solution = naive_solution(data,species.servers)\n",
    "        species.accessDelay = accessDelay(species.solution,data)\n",
    "        species.workloadBalance = workloadBalance(species.solution, data) \n",
    "\n",
    "def breed(data,a,b,gen,id,fixed_servers):\n",
    "    if fixed_servers:\n",
    "        server_count = len(a.servers)\n",
    "        new_servers = set(a.servers) | set(b.servers)\n",
    "        try:\n",
    "            new_servers = np.random.choice(list(new_servers), server_count, False)\n",
    "        except Exception:\n",
    "            print(a.servers)\n",
    "            print(b.servers)\n",
    "            print(new_servers)\n",
    "        new_solution = []\n",
    "        set_new_servers = set(new_servers)\n",
    "        for i in range(len(a.solution)):\n",
    "            if a.solution[i] in set_new_servers:\n",
    "                new_solution.append(a.solution[i])\n",
    "            elif b.solution[i] in set_new_servers:\n",
    "                new_solution.append(b.solution[i])\n",
    "            else:\n",
    "                best_server = 0\n",
    "                min_dist = np.inf\n",
    "                for server in new_servers:\n",
    "                    dist = distance.distance(data.iloc[i]['location'],data.iloc[server]['location']).km\n",
    "                    if dist < min_dist:\n",
    "                        best_server = server\n",
    "                        min_dist = dist\n",
    "                new_solution.append(best_server)\n",
    "        return Species(0,0,new_servers,new_solution, workloadBalance(new_solution,data), accessDelay(new_solution,data), \"Gen \" + str(gen) + \", Species:\" + str(id))\n",
    "\n",
    "def new_generation(data,population,gen, mutation_rate, fixed_servers):       \n",
    "    pop_list = sorted(population.values(), key = operator.attrgetter(\"frontier\", \"distance\"))\n",
    "    next_gen = {}\n",
    "    i = 1\n",
    "    frontiers = nonDominatedSort(population)\n",
    "    for i in tqdm_notebook(range(len(population)),leave=False, desc='Next Generation'): \n",
    "        a = selection(population,frontiers)\n",
    "        b = selection(population,frontiers)\n",
    "        new_species = breed(data,a,b,gen,i,fixed_servers)\n",
    "        n = np.random.random(1)[0]\n",
    "        if n < mutation_rate:\n",
    "            mutate(data, new_species, fixed_servers)\n",
    "        next_gen[new_species.id] = new_species\n",
    "    return next_gen"
   ]
  },
  {
   "cell_type": "code",
   "execution_count": 88,
   "metadata": {},
   "outputs": [],
   "source": [
    "def breed(data,a,b,gen,id,fixed_servers):\n",
    "    '''\n",
    "    This function generates a new generation of species (population) based on the current population.\n",
    "    It sorts the population based on the frontier and distance attributes of each species. It iterates through the population and performs selection, crossover, and mutation to create new species for the next generation. The crowding distance is computed for each member of the population.\n",
    "    Returns the new generation of species.\n",
    "    '''"
   ]
  },
  {
   "cell_type": "code",
   "execution_count": 90,
   "metadata": {},
   "outputs": [],
   "source": [
    "access_delay_averages = []\n",
    "workload_balance_averages = []\n",
    "access_delay_mins = []\n",
    "workload_balance_mins = []\n",
    "def evolution(data,generations = 20, pop_size = 150, server_count = 20, fixed_servers = True):\n",
    "    population = init_pop(data,pop_size=pop_size, server_count =server_count,server_variance = 0)\n",
    "    for i in tqdm_notebook(range(generations), desc='Generation'):\n",
    "        gen = {}\n",
    "        frontiers = nonDominatedSort(population)\n",
    "        crowdingDistance(list(population.values()))\n",
    "        pop_list = sorted(population.values(), key = operator.attrgetter(\"frontier\", \"distance\"))\n",
    "        print(pop_list)\n",
    "        population = {}\n",
    "        for k in range(0,pop_size):\n",
    "            id = pop_list[k].id\n",
    "            population[id] = pop_list[k]\n",
    "\n",
    "        if i%1 == 0:\n",
    "            print(\"Generation: \" + str(i))\n",
    "            ads = []\n",
    "            wbs = []\n",
    "            for key,value in population.items():\n",
    "                ads.append(value.accessDelay)\n",
    "                wbs.append(value.workloadBalance)\n",
    "            plt.xlabel(\"Access Delay\")\n",
    "            plt.ylabel(\"Workload Balance\")\n",
    "            plt.scatter(ads,wbs)\n",
    "            plt.show()\n",
    "            average_ad = sum(ads)/len(ads)\n",
    "            average_wb = sum(wbs)/len(wbs)\n",
    "            access_delay_averages.append(average_ad)\n",
    "            workload_balance_averages.append(average_wb)\n",
    "            access_delay_mins.append(min(ads))\n",
    "            workload_balance_mins.append(min(wbs))\n",
    "            print(\"Average access delay:\" + str(average_ad))\n",
    "            print(\"Average workload balance:\" + str(average_wb))\n",
    "            print(\"Minimum access delay:\" + str(min(ads)))\n",
    "            print(\"Minimum workload balance:\" + str(min(wbs)))\n",
    "\n",
    "        \n",
    "        next_gen = new_generation(data,population, i+1, .1, fixed_servers)\n",
    "        population.update(next_gen)\n",
    "    gen = {}\n",
    "    frontiers = nonDominatedSort(population)\n",
    "    j = 0\n",
    "    while len(gen) < pop_size:\n",
    "        front = [population[x] for x in frontiers[j]]\n",
    "        crowdingDistance(front)\n",
    "        gen.update({key: value for key, value in population.items() if key in frontiers[j]})\n",
    "        j += 1\n",
    "    population = gen\n",
    "    return frontiers,population\n",
    "   \n",
    "        "
   ]
  },
  {
   "cell_type": "code",
   "execution_count": 91,
   "metadata": {},
   "outputs": [
    {
     "name": "stderr",
     "output_type": "stream",
     "text": [
      " 82% |###########################################################             |\r"
     ]
    },
    {
     "ename": "KeyboardInterrupt",
     "evalue": "",
     "output_type": "error",
     "traceback": [
      "\u001b[1;31m---------------------------------------------------------------------------\u001b[0m",
      "\u001b[1;31mKeyboardInterrupt\u001b[0m                         Traceback (most recent call last)",
      "Cell \u001b[1;32mIn[91], line 1\u001b[0m\n\u001b[1;32m----> 1\u001b[0m frontiers,population \u001b[38;5;241m=\u001b[39m \u001b[43mevolution\u001b[49m\u001b[43m(\u001b[49m\u001b[43mdf_300\u001b[49m\u001b[43m,\u001b[49m\u001b[43mpop_size\u001b[49m\u001b[38;5;241;43m=\u001b[39;49m\u001b[38;5;241;43m150\u001b[39;49m\u001b[43m)\u001b[49m\n",
      "Cell \u001b[1;32mIn[90], line 6\u001b[0m, in \u001b[0;36mevolution\u001b[1;34m(data, generations, pop_size, server_count, fixed_servers)\u001b[0m\n\u001b[0;32m      5\u001b[0m \u001b[38;5;28;01mdef\u001b[39;00m \u001b[38;5;21mevolution\u001b[39m(data,generations \u001b[38;5;241m=\u001b[39m \u001b[38;5;241m20\u001b[39m, pop_size \u001b[38;5;241m=\u001b[39m \u001b[38;5;241m150\u001b[39m, server_count \u001b[38;5;241m=\u001b[39m \u001b[38;5;241m20\u001b[39m, fixed_servers \u001b[38;5;241m=\u001b[39m \u001b[38;5;28;01mTrue\u001b[39;00m):\n\u001b[1;32m----> 6\u001b[0m     population \u001b[38;5;241m=\u001b[39m \u001b[43minit_pop\u001b[49m\u001b[43m(\u001b[49m\u001b[43mdata\u001b[49m\u001b[43m,\u001b[49m\u001b[43mpop_size\u001b[49m\u001b[38;5;241;43m=\u001b[39;49m\u001b[43mpop_size\u001b[49m\u001b[43m,\u001b[49m\u001b[43m \u001b[49m\u001b[43mserver_count\u001b[49m\u001b[43m \u001b[49m\u001b[38;5;241;43m=\u001b[39;49m\u001b[43mserver_count\u001b[49m\u001b[43m,\u001b[49m\u001b[43mserver_variance\u001b[49m\u001b[43m \u001b[49m\u001b[38;5;241;43m=\u001b[39;49m\u001b[43m \u001b[49m\u001b[38;5;241;43m0\u001b[39;49m\u001b[43m)\u001b[49m\n\u001b[0;32m      7\u001b[0m     \u001b[38;5;28;01mfor\u001b[39;00m i \u001b[38;5;129;01min\u001b[39;00m tqdm_notebook(\u001b[38;5;28mrange\u001b[39m(generations), desc\u001b[38;5;241m=\u001b[39m\u001b[38;5;124m'\u001b[39m\u001b[38;5;124mGeneration\u001b[39m\u001b[38;5;124m'\u001b[39m):\n\u001b[0;32m      8\u001b[0m         gen \u001b[38;5;241m=\u001b[39m {}\n",
      "Cell \u001b[1;32mIn[81], line 23\u001b[0m, in \u001b[0;36minit_pop\u001b[1;34m(data, server_count, pop_size, server_variance)\u001b[0m\n\u001b[0;32m     21\u001b[0m         server_n \u001b[38;5;241m=\u001b[39m server_count\n\u001b[0;32m     22\u001b[0m     servers \u001b[38;5;241m=\u001b[39m \u001b[38;5;28mlist\u001b[39m(np\u001b[38;5;241m.\u001b[39mrandom\u001b[38;5;241m.\u001b[39mchoice(\u001b[38;5;28mrange\u001b[39m(\u001b[38;5;28mlen\u001b[39m(data)),server_n,\u001b[38;5;28;01mFalse\u001b[39;00m)) \u001b[38;5;66;03m#list of server_n random servers\u001b[39;00m\n\u001b[1;32m---> 23\u001b[0m     solution \u001b[38;5;241m=\u001b[39m \u001b[43mnaive_solution\u001b[49m\u001b[43m(\u001b[49m\u001b[43mdata\u001b[49m\u001b[43m,\u001b[49m\u001b[43mservers\u001b[49m\u001b[43m)\u001b[49m\n\u001b[0;32m     24\u001b[0m     pop[i] \u001b[38;5;241m=\u001b[39m Species(\u001b[38;5;241m0\u001b[39m,\u001b[38;5;241m0\u001b[39m,servers,solution, workloadBalance(solution,data), accessDelay(solution,data),\u001b[38;5;124m\"\u001b[39m\u001b[38;5;124mGen 0, Species:\u001b[39m\u001b[38;5;124m\"\u001b[39m \u001b[38;5;241m+\u001b[39m \u001b[38;5;28mstr\u001b[39m(i))\n\u001b[0;32m     25\u001b[0m \u001b[38;5;28;01mreturn\u001b[39;00m pop\n",
      "Cell \u001b[1;32mIn[81], line 7\u001b[0m, in \u001b[0;36mnaive_solution\u001b[1;34m(data, servers)\u001b[0m\n\u001b[0;32m      5\u001b[0m min_dist \u001b[38;5;241m=\u001b[39m np\u001b[38;5;241m.\u001b[39minf\n\u001b[0;32m      6\u001b[0m \u001b[38;5;28;01mfor\u001b[39;00m server \u001b[38;5;129;01min\u001b[39;00m servers:\n\u001b[1;32m----> 7\u001b[0m     dist \u001b[38;5;241m=\u001b[39m distance\u001b[38;5;241m.\u001b[39mdistance(data\u001b[38;5;241m.\u001b[39miloc[j][\u001b[38;5;124m'\u001b[39m\u001b[38;5;124mlocation\u001b[39m\u001b[38;5;124m'\u001b[39m],\u001b[43mdata\u001b[49m\u001b[38;5;241;43m.\u001b[39;49m\u001b[43miloc\u001b[49m\u001b[43m[\u001b[49m\u001b[43mserver\u001b[49m\u001b[43m]\u001b[49m[\u001b[38;5;124m'\u001b[39m\u001b[38;5;124mlocation\u001b[39m\u001b[38;5;124m'\u001b[39m])\u001b[38;5;241m.\u001b[39mkm\n\u001b[0;32m      8\u001b[0m     \u001b[38;5;28;01mif\u001b[39;00m dist \u001b[38;5;241m<\u001b[39m min_dist:\n\u001b[0;32m      9\u001b[0m         best_server \u001b[38;5;241m=\u001b[39m server\n",
      "File \u001b[1;32mc:\\Users\\ADMIN\\AppData\\Local\\Programs\\Python\\Python312\\Lib\\site-packages\\pandas\\core\\indexing.py:1153\u001b[0m, in \u001b[0;36m_LocationIndexer.__getitem__\u001b[1;34m(self, key)\u001b[0m\n\u001b[0;32m   1150\u001b[0m axis \u001b[38;5;241m=\u001b[39m \u001b[38;5;28mself\u001b[39m\u001b[38;5;241m.\u001b[39maxis \u001b[38;5;129;01mor\u001b[39;00m \u001b[38;5;241m0\u001b[39m\n\u001b[0;32m   1152\u001b[0m maybe_callable \u001b[38;5;241m=\u001b[39m com\u001b[38;5;241m.\u001b[39mapply_if_callable(key, \u001b[38;5;28mself\u001b[39m\u001b[38;5;241m.\u001b[39mobj)\n\u001b[1;32m-> 1153\u001b[0m \u001b[38;5;28;01mreturn\u001b[39;00m \u001b[38;5;28;43mself\u001b[39;49m\u001b[38;5;241;43m.\u001b[39;49m\u001b[43m_getitem_axis\u001b[49m\u001b[43m(\u001b[49m\u001b[43mmaybe_callable\u001b[49m\u001b[43m,\u001b[49m\u001b[43m \u001b[49m\u001b[43maxis\u001b[49m\u001b[38;5;241;43m=\u001b[39;49m\u001b[43maxis\u001b[49m\u001b[43m)\u001b[49m\n",
      "File \u001b[1;32mc:\\Users\\ADMIN\\AppData\\Local\\Programs\\Python\\Python312\\Lib\\site-packages\\pandas\\core\\indexing.py:1716\u001b[0m, in \u001b[0;36m_iLocIndexer._getitem_axis\u001b[1;34m(self, key, axis)\u001b[0m\n\u001b[0;32m   1713\u001b[0m \u001b[38;5;66;03m# validate the location\u001b[39;00m\n\u001b[0;32m   1714\u001b[0m \u001b[38;5;28mself\u001b[39m\u001b[38;5;241m.\u001b[39m_validate_integer(key, axis)\n\u001b[1;32m-> 1716\u001b[0m \u001b[38;5;28;01mreturn\u001b[39;00m \u001b[38;5;28;43mself\u001b[39;49m\u001b[38;5;241;43m.\u001b[39;49m\u001b[43mobj\u001b[49m\u001b[38;5;241;43m.\u001b[39;49m\u001b[43m_ixs\u001b[49m\u001b[43m(\u001b[49m\u001b[43mkey\u001b[49m\u001b[43m,\u001b[49m\u001b[43m \u001b[49m\u001b[43maxis\u001b[49m\u001b[38;5;241;43m=\u001b[39;49m\u001b[43maxis\u001b[49m\u001b[43m)\u001b[49m\n",
      "File \u001b[1;32mc:\\Users\\ADMIN\\AppData\\Local\\Programs\\Python\\Python312\\Lib\\site-packages\\pandas\\core\\frame.py:3789\u001b[0m, in \u001b[0;36mDataFrame._ixs\u001b[1;34m(self, i, axis)\u001b[0m\n\u001b[0;32m   3787\u001b[0m \u001b[38;5;66;03m# irow\u001b[39;00m\n\u001b[0;32m   3788\u001b[0m \u001b[38;5;28;01mif\u001b[39;00m axis \u001b[38;5;241m==\u001b[39m \u001b[38;5;241m0\u001b[39m:\n\u001b[1;32m-> 3789\u001b[0m     new_mgr \u001b[38;5;241m=\u001b[39m \u001b[38;5;28;43mself\u001b[39;49m\u001b[38;5;241;43m.\u001b[39;49m\u001b[43m_mgr\u001b[49m\u001b[38;5;241;43m.\u001b[39;49m\u001b[43mfast_xs\u001b[49m\u001b[43m(\u001b[49m\u001b[43mi\u001b[49m\u001b[43m)\u001b[49m\n\u001b[0;32m   3791\u001b[0m     \u001b[38;5;66;03m# if we are a copy, mark as such\u001b[39;00m\n\u001b[0;32m   3792\u001b[0m     copy \u001b[38;5;241m=\u001b[39m \u001b[38;5;28misinstance\u001b[39m(new_mgr\u001b[38;5;241m.\u001b[39marray, np\u001b[38;5;241m.\u001b[39mndarray) \u001b[38;5;129;01mand\u001b[39;00m new_mgr\u001b[38;5;241m.\u001b[39marray\u001b[38;5;241m.\u001b[39mbase \u001b[38;5;129;01mis\u001b[39;00m \u001b[38;5;28;01mNone\u001b[39;00m\n",
      "File \u001b[1;32mc:\\Users\\ADMIN\\AppData\\Local\\Programs\\Python\\Python312\\Lib\\site-packages\\pandas\\core\\internals\\managers.py:967\u001b[0m, in \u001b[0;36mBlockManager.fast_xs\u001b[1;34m(self, loc)\u001b[0m\n\u001b[0;32m    959\u001b[0m     block \u001b[38;5;241m=\u001b[39m new_block(\n\u001b[0;32m    960\u001b[0m         result,\n\u001b[0;32m    961\u001b[0m         placement\u001b[38;5;241m=\u001b[39mbp,\n\u001b[0;32m    962\u001b[0m         ndim\u001b[38;5;241m=\u001b[39m\u001b[38;5;241m1\u001b[39m,\n\u001b[0;32m    963\u001b[0m         refs\u001b[38;5;241m=\u001b[39m\u001b[38;5;28mself\u001b[39m\u001b[38;5;241m.\u001b[39mblocks[\u001b[38;5;241m0\u001b[39m]\u001b[38;5;241m.\u001b[39mrefs,\n\u001b[0;32m    964\u001b[0m     )\n\u001b[0;32m    965\u001b[0m     \u001b[38;5;28;01mreturn\u001b[39;00m SingleBlockManager(block, \u001b[38;5;28mself\u001b[39m\u001b[38;5;241m.\u001b[39maxes[\u001b[38;5;241m0\u001b[39m])\n\u001b[1;32m--> 967\u001b[0m dtype \u001b[38;5;241m=\u001b[39m \u001b[43minterleaved_dtype\u001b[49m\u001b[43m(\u001b[49m\u001b[43m[\u001b[49m\u001b[43mblk\u001b[49m\u001b[38;5;241;43m.\u001b[39;49m\u001b[43mdtype\u001b[49m\u001b[43m \u001b[49m\u001b[38;5;28;43;01mfor\u001b[39;49;00m\u001b[43m \u001b[49m\u001b[43mblk\u001b[49m\u001b[43m \u001b[49m\u001b[38;5;129;43;01min\u001b[39;49;00m\u001b[43m \u001b[49m\u001b[38;5;28;43mself\u001b[39;49m\u001b[38;5;241;43m.\u001b[39;49m\u001b[43mblocks\u001b[49m\u001b[43m]\u001b[49m\u001b[43m)\u001b[49m\n\u001b[0;32m    969\u001b[0m n \u001b[38;5;241m=\u001b[39m \u001b[38;5;28mlen\u001b[39m(\u001b[38;5;28mself\u001b[39m)\n\u001b[0;32m    971\u001b[0m \u001b[38;5;28;01mif\u001b[39;00m \u001b[38;5;28misinstance\u001b[39m(dtype, ExtensionDtype):\n",
      "File \u001b[1;32mc:\\Users\\ADMIN\\AppData\\Local\\Programs\\Python\\Python312\\Lib\\site-packages\\pandas\\core\\internals\\base.py:363\u001b[0m, in \u001b[0;36minterleaved_dtype\u001b[1;34m(dtypes)\u001b[0m\n\u001b[0;32m    360\u001b[0m \u001b[38;5;28;01mif\u001b[39;00m \u001b[38;5;129;01mnot\u001b[39;00m \u001b[38;5;28mlen\u001b[39m(dtypes):\n\u001b[0;32m    361\u001b[0m     \u001b[38;5;28;01mreturn\u001b[39;00m \u001b[38;5;28;01mNone\u001b[39;00m\n\u001b[1;32m--> 363\u001b[0m \u001b[38;5;28;01mreturn\u001b[39;00m \u001b[43mfind_common_type\u001b[49m\u001b[43m(\u001b[49m\u001b[43mdtypes\u001b[49m\u001b[43m)\u001b[49m\n",
      "File \u001b[1;32mc:\\Users\\ADMIN\\AppData\\Local\\Programs\\Python\\Python312\\Lib\\site-packages\\pandas\\core\\dtypes\\cast.py:1428\u001b[0m, in \u001b[0;36mfind_common_type\u001b[1;34m(types)\u001b[0m\n\u001b[0;32m   1425\u001b[0m     \u001b[38;5;28;01mreturn\u001b[39;00m first\n\u001b[0;32m   1427\u001b[0m \u001b[38;5;66;03m# get unique types (dict.fromkeys is used as order-preserving set())\u001b[39;00m\n\u001b[1;32m-> 1428\u001b[0m types \u001b[38;5;241m=\u001b[39m \u001b[38;5;28mlist\u001b[39m(\u001b[38;5;28;43mdict\u001b[39;49m\u001b[38;5;241;43m.\u001b[39;49m\u001b[43mfromkeys\u001b[49m\u001b[43m(\u001b[49m\u001b[43mtypes\u001b[49m\u001b[43m)\u001b[49m\u001b[38;5;241;43m.\u001b[39;49m\u001b[43mkeys\u001b[49m\u001b[43m(\u001b[49m\u001b[43m)\u001b[49m)\n\u001b[0;32m   1430\u001b[0m \u001b[38;5;28;01mif\u001b[39;00m \u001b[38;5;28many\u001b[39m(\u001b[38;5;28misinstance\u001b[39m(t, ExtensionDtype) \u001b[38;5;28;01mfor\u001b[39;00m t \u001b[38;5;129;01min\u001b[39;00m types):\n\u001b[0;32m   1431\u001b[0m     \u001b[38;5;28;01mfor\u001b[39;00m t \u001b[38;5;129;01min\u001b[39;00m types:\n",
      "\u001b[1;31mKeyboardInterrupt\u001b[0m: "
     ]
    }
   ],
   "source": [
    "frontiers,population = evolution(df_300,pop_size=150)"
   ]
  },
  {
   "cell_type": "code",
   "execution_count": null,
   "metadata": {},
   "outputs": [
    {
     "data": {
      "text/plain": [
       "[<matplotlib.lines.Line2D at 0x1e4bf4a2270>]"
      ]
     },
     "execution_count": 12,
     "metadata": {},
     "output_type": "execute_result"
    },
    {
     "data": {
      "image/png": "[encoded data removed]",
      "text/plain": [
       "<Figure size 640x480 with 1 Axes>"
      ]
     },
     "metadata": {},
     "output_type": "display_data"
    }
   ],
   "source": [
    "plt.xlabel(\"Access delay average\")\n",
    "plt.ylabel(\"Generation\")\n",
    "plt.xticks(range(0,20))\n",
    "plt.plot(access_delay_averages)"
   ]
  },
  {
   "cell_type": "code",
   "execution_count": null,
   "metadata": {},
   "outputs": [
    {
     "data": {
      "text/plain": [
       "[<matplotlib.lines.Line2D at 0x1e4bf483cb0>]"
      ]
     },
     "execution_count": 13,
     "metadata": {},
     "output_type": "execute_result"
    },
    {
     "data": {
      "image/png": "[encoded data removed]",
      "text/plain": [
       "<Figure size 640x480 with 1 Axes>"
      ]
     },
     "metadata": {},
     "output_type": "display_data"
    }
   ],
   "source": [
    "plt.xlabel(\"Workload balance average\")\n",
    "plt.ylabel(\"Generation\")\n",
    "plt.xticks(range(0,20))\n",
    "plt.plot(workload_balance_averages)"
   ]
  },
  {
   "cell_type": "code",
   "execution_count": null,
   "metadata": {},
   "outputs": [],
   "source": [
    "import pickle"
   ]
  },
  {
   "cell_type": "code",
   "execution_count": null,
   "metadata": {},
   "outputs": [],
   "source": [
    "file = open(\"results.pickle\",\"wb\")\n",
    "pickle.dump(population, file)"
   ]
  },
  {
   "cell_type": "code",
   "execution_count": null,
   "metadata": {},
   "outputs": [
    {
     "data": {
      "image/png": "[encoded data removed]",
      "text/plain": [
       "<Figure size 640x480 with 1 Axes>"
      ]
     },
     "metadata": {},
     "output_type": "display_data"
    },
    {
     "name": "stdout",
     "output_type": "stream",
     "text": [
      "Average Access Delay:2080.8010252740914\n",
      "Average Workload Balance:2914520.4067937406\n",
      "Minimum Access Delay:1135.5827081872208\n",
      "Minimum Workload Balance:1964519.3244820877\n"
     ]
    }
   ],
   "source": [
    "frontiers = nonDominatedSort(population)\n",
    "front1 = {key:value for key,value in population.items() if value.id in frontiers[0]}\n",
    "ads = []\n",
    "wbs = []\n",
    "for key,value in front1.items():\n",
    "    ads.append(value.accessDelay)\n",
    "    wbs.append(value.workloadBalance)\n",
    "plt.xlabel(\"Access Delay\")\n",
    "plt.ylabel(\"Workload Balance\")\n",
    "plt.scatter(ads,wbs)\n",
    "plt.show()\n",
    "average_ad = sum(ads)/len(ads)\n",
    "average_wb = sum(wbs)/len(wbs)\n",
    "access_delay_averages.append(average_ad)\n",
    "workload_balance_averages.append(average_wb)\n",
    "access_delay_mins.append(min(ads))\n",
    "workload_balance_mins.append(min(wbs))\n",
    "print(\"Average access delay:\" + str(average_ad))\n",
    "print(\"Average workload balance:\" + str(average_wb))\n",
    "print(\"Minimum access delay:\" + str(min(ads)))\n",
    "print(\"Minimum workload balance:\" + str(min(wbs)))"
   ]
  }
 ],
 "metadata": {
  "kernelspec": {
   "display_name": "Python 3.7.9 64-bit",
   "metadata": {
    "interpreter": {
     "hash": "253588e5b720c4626f0293678f453d2cf4fd73352561ef147b4f7e42d966dfd3"
    }
   },
   "name": "python3"
  },
  "language_info": {
   "codemirror_mode": {
    "name": "ipython",
    "version": 3
   },
   "file_extension": ".py",
   "mimetype": "text/x-python",
   "name": "python",
   "nbconvert_exporter": "python",
   "pygments_lexer": "ipython3",
   "version": "3.12.1"
  },
  "orig_nbformat": 2
 },
 "nbformat": 4,
 "nbformat_minor": 2
}
